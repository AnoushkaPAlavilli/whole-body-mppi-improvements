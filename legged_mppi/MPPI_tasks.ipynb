{
 "cells": [
  {
   "cell_type": "code",
   "execution_count": 1,
   "id": "dc7fb232",
   "metadata": {},
   "outputs": [
    {
     "ename": "ModuleNotFoundError",
     "evalue": "No module named 'sklearn'",
     "output_type": "error",
     "traceback": [
      "\u001b[0;31m---------------------------------------------------------------------------\u001b[0m",
      "\u001b[0;31mModuleNotFoundError\u001b[0m                       Traceback (most recent call last)",
      "Cell \u001b[0;32mIn[1], line 10\u001b[0m\n\u001b[1;32m      7\u001b[0m \u001b[38;5;28;01mimport\u001b[39;00m \u001b[38;5;21;01mmujoco_viewer\u001b[39;00m\n\u001b[1;32m      9\u001b[0m \u001b[38;5;66;03m# Controller functions\u001b[39;00m\n\u001b[0;32m---> 10\u001b[0m \u001b[38;5;28;01mfrom\u001b[39;00m \u001b[38;5;21;01mcontrol\u001b[39;00m\u001b[38;5;21;01m.\u001b[39;00m\u001b[38;5;21;01mcontrollers\u001b[39;00m\u001b[38;5;21;01m.\u001b[39;00m\u001b[38;5;21;01mmppi_locomotion\u001b[39;00m \u001b[38;5;28;01mimport\u001b[39;00m MPPI\n\u001b[1;32m     12\u001b[0m \u001b[38;5;28;01mfrom\u001b[39;00m \u001b[38;5;21;01mutils\u001b[39;00m\u001b[38;5;21;01m.\u001b[39;00m\u001b[38;5;21;01mtasks\u001b[39;00m \u001b[38;5;28;01mimport\u001b[39;00m get_task\n\u001b[1;32m     13\u001b[0m \u001b[38;5;28;01mfrom\u001b[39;00m \u001b[38;5;21;01mutils\u001b[39;00m\u001b[38;5;21;01m.\u001b[39;00m\u001b[38;5;21;01mtransforms\u001b[39;00m \u001b[38;5;28;01mimport\u001b[39;00m batch_world_to_local_velocity\n",
      "File \u001b[0;32m~/Projects/whole-body-mppi-improvements/legged_mppi/control/controllers/mppi_locomotion.py:8\u001b[0m\n\u001b[1;32m      6\u001b[0m \u001b[38;5;66;03m# Local imports (ensure these are part of your package structure)\u001b[39;00m\n\u001b[1;32m      7\u001b[0m \u001b[38;5;28;01mfrom\u001b[39;00m \u001b[38;5;21;01mutils\u001b[39;00m\u001b[38;5;21;01m.\u001b[39;00m\u001b[38;5;21;01mtasks\u001b[39;00m \u001b[38;5;28;01mimport\u001b[39;00m get_task\n\u001b[0;32m----> 8\u001b[0m \u001b[38;5;28;01mfrom\u001b[39;00m \u001b[38;5;21;01mcontrol\u001b[39;00m\u001b[38;5;21;01m.\u001b[39;00m\u001b[38;5;21;01mcontrollers\u001b[39;00m\u001b[38;5;21;01m.\u001b[39;00m\u001b[38;5;21;01mbase_controller\u001b[39;00m \u001b[38;5;28;01mimport\u001b[39;00m BaseMPPI\n\u001b[1;32m      9\u001b[0m \u001b[38;5;28;01mfrom\u001b[39;00m \u001b[38;5;21;01mcontrol\u001b[39;00m\u001b[38;5;21;01m.\u001b[39;00m\u001b[38;5;21;01mgait_scheduler\u001b[39;00m\u001b[38;5;21;01m.\u001b[39;00m\u001b[38;5;21;01mscheduler\u001b[39;00m \u001b[38;5;28;01mimport\u001b[39;00m GaitScheduler\n\u001b[1;32m     10\u001b[0m \u001b[38;5;28;01mfrom\u001b[39;00m \u001b[38;5;21;01mcontrol\u001b[39;00m\u001b[38;5;21;01m.\u001b[39;00m\u001b[38;5;21;01mgait_scheduler\u001b[39;00m\u001b[38;5;21;01m.\u001b[39;00m\u001b[38;5;21;01mscheduler\u001b[39;00m \u001b[38;5;28;01mimport\u001b[39;00m Timer\n",
      "File \u001b[0;32m~/Projects/whole-body-mppi-improvements/legged_mppi/control/controllers/base_controller.py:10\u001b[0m\n\u001b[1;32m      8\u001b[0m \u001b[38;5;28;01mfrom\u001b[39;00m \u001b[38;5;21;01mmujoco\u001b[39;00m \u001b[38;5;28;01mimport\u001b[39;00m rollout\n\u001b[1;32m      9\u001b[0m \u001b[38;5;28;01mimport\u001b[39;00m \u001b[38;5;21;01myaml\u001b[39;00m\n\u001b[0;32m---> 10\u001b[0m \u001b[38;5;28;01mfrom\u001b[39;00m \u001b[38;5;21;01msklearn\u001b[39;00m\u001b[38;5;21;01m.\u001b[39;00m\u001b[38;5;21;01mgaussian_process\u001b[39;00m \u001b[38;5;28;01mimport\u001b[39;00m GaussianProcessRegressor\n\u001b[1;32m     11\u001b[0m \u001b[38;5;28;01mfrom\u001b[39;00m \u001b[38;5;21;01msklearn\u001b[39;00m\u001b[38;5;21;01m.\u001b[39;00m\u001b[38;5;21;01mgaussian_process\u001b[39;00m\u001b[38;5;21;01m.\u001b[39;00m\u001b[38;5;21;01mkernels\u001b[39;00m \u001b[38;5;28;01mimport\u001b[39;00m RBF\n\u001b[1;32m     13\u001b[0m \u001b[38;5;28;01mclass\u001b[39;00m \u001b[38;5;21;01mBaseMPPI\u001b[39;00m:\n",
      "\u001b[0;31mModuleNotFoundError\u001b[0m: No module named 'sklearn'"
     ]
    }
   ],
   "source": [
    "# Imports\n",
    "import numpy as np\n",
    "import copy as cp\n",
    "\n",
    "# Mujoco\n",
    "import mujoco\n",
    "import mujoco_viewer\n",
    "\n",
    "# Controller functions\n",
    "from control.controllers.mppi_locomotion import MPPI\n",
    "\n",
    "from utils.tasks import get_task\n",
    "from utils.transforms import batch_world_to_local_velocity\n",
    "\n",
    "# Visualization\n",
    "from matplotlib.animation import FuncAnimation\n",
    "from IPython.display import HTML\n",
    "import matplotlib.pyplot as plt\n",
    "\n",
    "import csv\n",
    "import os"
   ]
  },
  {
   "cell_type": "code",
   "execution_count": 2,
   "id": "848db0ea",
   "metadata": {},
   "outputs": [
    {
     "data": {
      "text/plain": [
       "'/Users/anoushka/Projects/whole-body-mppi-improvements/legged_mppi'"
      ]
     },
     "execution_count": 2,
     "metadata": {},
     "output_type": "execute_result"
    }
   ],
   "source": [
    "import os\n",
    "os.getcwd()\n"
   ]
  },
  {
   "cell_type": "markdown",
   "id": "f20115e3-fb11-4135-8cb8-cf22681f1b5e",
   "metadata": {},
   "source": [
    "## Choose paramters\n",
    "#### Task:\n",
    "* `'stand'` or `'stand_rugged_terr'`\n",
    "* `'walk_straight'` or `'walk_straight_rugged_terr'`\n",
    "* `'walk_octagon'` or `'walk_octagon_rugged_terr'`\n",
    "* `'big_box'` or `'big_box_rugged_terr'`\n",
    "* `'stairs'`"
   ]
  },
  {
   "cell_type": "code",
   "execution_count": 2,
   "id": "09f8c5e2",
   "metadata": {},
   "outputs": [],
   "source": [
    "q_noise_std = 0.03  \n",
    "v_noise_std = 0.2 "
   ]
  },
  {
   "cell_type": "code",
   "execution_count": 3,
   "id": "961ddab3",
   "metadata": {},
   "outputs": [],
   "source": [
    "task = 'walk_straight_rugged_terr'\n",
    "warm_start = True\n",
    "imperfect_state_estimation = True"
   ]
  },
  {
   "cell_type": "code",
   "execution_count": 4,
   "id": "0a4f5d59-b0c9-4196-b924-2d7da4298118",
   "metadata": {},
   "outputs": [],
   "source": [
    "# Task\n",
    "task = 'stairs'\n",
    "task_data = get_task(task)\n",
    "model_path = task_data['sim_path']"
   ]
  },
  {
   "cell_type": "code",
   "execution_count": 5,
   "id": "ece36733",
   "metadata": {},
   "outputs": [],
   "source": [
    "# Model visualizer\n",
    "model_sim = mujoco.MjModel.from_xml_path(model_path)\n",
    "dt_sim = 0.01\n",
    "model_sim.opt.timestep = dt_sim\n",
    "data_sim = mujoco.MjData(model_sim)\n",
    "viewer = mujoco_viewer.MujocoViewer(model_sim, data_sim, 'offscreen')"
   ]
  },
  {
   "cell_type": "code",
   "execution_count": null,
   "id": "00ffeb38",
   "metadata": {},
   "outputs": [],
   "source": [
    "# Reset robot (keyframes are defined in the xml)\n",
    "mujoco.mj_resetDataKeyframe(model_sim, data_sim, 0) # stand position\n",
    "mujoco.mj_forward(model_sim, data_sim)\n",
    "q_init = cp.deepcopy(data_sim.qpos) # save reference pose\n",
    "v_init = cp.deepcopy(data_sim.qvel) # save reference pose\n",
    "print(\"Configuration: {}\".format(q_init)) # save reference pose"
   ]
  },
  {
   "cell_type": "code",
   "execution_count": null,
   "id": "22edd326",
   "metadata": {},
   "outputs": [],
   "source": [
    "img = viewer.read_pixels()\n",
    "plt.imshow(img)"
   ]
  },
  {
   "cell_type": "code",
   "execution_count": null,
   "id": "a726bf68",
   "metadata": {},
   "outputs": [],
   "source": [
    "# Initialize controller\n",
    "controller = MPPI(task=task)\n",
    "controller.internal_ref = True\n",
    "controller.reset_planner()"
   ]
  },
  {
   "cell_type": "code",
   "execution_count": 9,
   "id": "c15391b6",
   "metadata": {},
   "outputs": [],
   "source": [
    "q_curr = cp.deepcopy(data_sim.qpos) # save reference pose\n",
    "v_curr = cp.deepcopy(data_sim.qvel) # save reference pose\n",
    "x = np.concatenate([q_curr, v_curr])"
   ]
  },
  {
   "cell_type": "code",
   "execution_count": 10,
   "id": "c5dba8ed",
   "metadata": {},
   "outputs": [],
   "source": [
    "# Set simulation time\n",
    "tfinal = 8 # 14 for stairs, 30 for walk_octagon\n",
    "tvec = np.linspace(0,tfinal,int(np.ceil(tfinal/dt_sim))+1)"
   ]
  },
  {
   "cell_type": "code",
   "execution_count": 11,
   "id": "b9d7632f",
   "metadata": {},
   "outputs": [],
   "source": [
    "mujoco.mj_resetDataKeyframe(model_sim, data_sim, 1)\n",
    "mujoco.mj_forward(model_sim, data_sim)"
   ]
  },
  {
   "cell_type": "code",
   "execution_count": null,
   "id": "8f5d186d-e79c-4463-b248-87799f7fe507",
   "metadata": {},
   "outputs": [],
   "source": [
    "viewer.cam.distance = 4.2\n",
    "viewer.cam.lookat[:] = [2.2, 0, 0.27]\n",
    "controller.n_knots"
   ]
  },
  {
   "cell_type": "code",
   "execution_count": null,
   "id": "2bd587e2-398e-4e48-8636-00979ea1629e",
   "metadata": {},
   "outputs": [],
   "source": [
    "img = viewer.read_pixels()\n",
    "plt.imshow(img)"
   ]
  },
  {
   "cell_type": "code",
   "execution_count": null,
   "id": "ae358664",
   "metadata": {},
   "outputs": [],
   "source": [
    "%%time\n",
    "# Run simulation\n",
    "anim_imgs = []\n",
    "sim_inputs = []\n",
    "x_states = []\n",
    "error_history = []\n",
    "max_cost_history = []\n",
    "min_cost_history = []\n",
    "cost_norm_history = []\n",
    "num_iter_per_goal = np.zeros(len(controller.goal_pos))\n",
    "\n",
    "for ticks, ti in enumerate(tvec):\n",
    "    if imperfect_state_estimation:\n",
    "        q_curr = cp.deepcopy(data_sim.qpos) + np.random.normal(0, q_noise_std, size=data_sim.qpos.shape)\n",
    "        v_curr = cp.deepcopy(data_sim.qvel) + np.random.normal(0, v_noise_std, size=data_sim.qvel.shape)\n",
    "    else:\n",
    "        q_curr = cp.deepcopy(data_sim.qpos)\n",
    "        v_curr = cp.deepcopy(data_sim.qvel)\n",
    "    x = np.concatenate([q_curr, v_curr])\n",
    "    \n",
    "    if ticks%1 == 0:\n",
    "        u_joints, cost_info = controller.update(x)  \n",
    "        max_cost_history.append(cost_info['max_cost'])\n",
    "        min_cost_history.append(cost_info['min_cost'])\n",
    "        cost_norm_history.append(np.linalg.norm(cost_info['max_cost'] - cost_info['min_cost']))\n",
    "\n",
    "    data_sim.ctrl[:] = u_joints\n",
    "    mujoco.mj_step(model_sim, data_sim)\n",
    "    mujoco.mj_forward(model_sim, data_sim)\n",
    "\n",
    "    error = np.linalg.norm(np.array(controller.body_ref[:3]) - np.array(data_sim.qpos[:3]))\n",
    "    error_history.append(error)\n",
    "    \n",
    "    viewer.add_marker(\n",
    "        pos=controller.body_ref[:3]*1,         # Position of the marker\n",
    "        size=[0.15, 0.15, 0.15],     # Size of the sphere\n",
    "        rgba=[1, 0, 1, 1],           # Color of the sphere (red)\n",
    "        type=mujoco.mjtGeom.mjGEOM_SPHERE, # Specify that this is a sphere\n",
    "        label=\"\"\n",
    "    )\n",
    "\n",
    "    if error < controller.goal_thresh[controller.goal_index]:\n",
    "        controller.next_goal()\n",
    "    \n",
    "    num_iter_per_goal[controller.goal_index] += 1\n",
    "    \n",
    "    img = viewer.read_pixels()\n",
    "    if ticks % 2 == 0:\n",
    "        anim_imgs.append(img)\n",
    "    sim_inputs.append(u_joints)\n",
    "    x_states.append(x)"
   ]
  },
  {
   "cell_type": "code",
   "execution_count": null,
   "id": "668d2782-f382-41bb-8ec5-4e9d3097721e",
   "metadata": {},
   "outputs": [],
   "source": [
    "plt.bar(np.arange(len(num_iter_per_goal)), num_iter_per_goal)\n",
    "plt.title(\"Iteration for each goal\")"
   ]
  },
  {
   "cell_type": "code",
   "execution_count": null,
   "id": "843f7584-9475-4c2e-93d8-816789df0d31",
   "metadata": {},
   "outputs": [],
   "source": [
    "plt.plot(min_cost_history, label=\"min_cost\")\n",
    "plt.plot(max_cost_history, label='max_cost')\n",
    "plt.plot(cost_norm_history, label= 'cost_diff')\n",
    "plt.title(\"Cost over time\")\n",
    "plt.legend()"
   ]
  },
  {
   "cell_type": "code",
   "execution_count": null,
   "id": "da3636d5-feed-40a1-a378-6f54e0370d29",
   "metadata": {},
   "outputs": [],
   "source": [
    "plt.plot(error_history)\n",
    "plt.title(\"Error Over Time\")"
   ]
  },
  {
   "cell_type": "code",
   "execution_count": null,
   "id": "aa1a6a9e",
   "metadata": {},
   "outputs": [],
   "source": [
    "x_states_np = np.array(x_states)\n",
    "orientations = x_states_np[:,3:7]\n",
    "velocities = x_states_np[:,19:22]\n",
    "velocities_trans = batch_world_to_local_velocity(orientations, velocities)\n",
    "\n",
    "plt.plot(velocities_trans, label=[\"vx\", \"vy\", \"vz\"])\n",
    "plt.title(\"Body velocities in world frame\")\n",
    "plt.legend()"
   ]
  },
  {
   "cell_type": "code",
   "execution_count": null,
   "id": "5e59127a",
   "metadata": {},
   "outputs": [],
   "source": [
    "angular_velocities = x_states_np[:,22:25]\n",
    "plt.plot(angular_velocities, label=[\"wx\", \"wy\", \"wz\"])\n",
    "plt.title(\"Angular velocities\")\n",
    "plt.legend()"
   ]
  },
  {
   "cell_type": "code",
   "execution_count": null,
   "id": "559a1c28",
   "metadata": {},
   "outputs": [],
   "source": [
    "plt.plot(orientations, label=[\"w\", \"x\", \"y\", \"z\"])\n",
    "plt.title(\"Orientation\")\n",
    "plt.legend()"
   ]
  },
  {
   "cell_type": "code",
   "execution_count": null,
   "id": "ba10e56e",
   "metadata": {},
   "outputs": [],
   "source": [
    "plt.plot(x_states_np[:,7:10], label=[\"hip\",\"thigh\",\"calf\"])\n",
    "plt.title(\"Joint angles FR leg\")"
   ]
  },
  {
   "cell_type": "code",
   "execution_count": null,
   "id": "b8f9f219",
   "metadata": {},
   "outputs": [],
   "source": [
    "plt.plot(x_states_np[:,10:13], label=[\"hip\",\"thigh\",\"calf\"])\n",
    "plt.title(\"Joint angles FL leg\")"
   ]
  },
  {
   "cell_type": "code",
   "execution_count": null,
   "id": "6e274b64",
   "metadata": {},
   "outputs": [],
   "source": [
    "plt.plot(x_states_np[:,13:16], label=[\"hip\",\"thigh\",\"calf\"])\n",
    "plt.title(\"Joint angles RR leg\")"
   ]
  },
  {
   "cell_type": "code",
   "execution_count": null,
   "id": "fb39ec22",
   "metadata": {},
   "outputs": [],
   "source": [
    "plt.plot(x_states_np[:,16:19], label=[\"hip\",\"thigh\",\"calf\"])\n",
    "plt.title(\"Joint angles RL leg\")"
   ]
  },
  {
   "cell_type": "code",
   "execution_count": 23,
   "id": "9a5c15b3",
   "metadata": {},
   "outputs": [],
   "source": [
    "import csv\n",
    "\n",
    "# Save the time-series data\n",
    "time_series_filename = f\"simulation_timeseries_{rugged_terr}_{warm_start}_{imperfect_state_estimation}.csv\"\n",
    "with open(time_series_filename, mode='w', newline='') as file:\n",
    "    writer = csv.writer(file)\n",
    "    # Write the header\n",
    "    writer.writerow(['time_step', 'error_history', 'max_cost_history', 'min_cost_history', 'cost_norm_history', 'rugged_terr', 'warm_start', 'imperfect_state'])\n",
    "    # Write each row of time-series data\n",
    "    for i in range(len(error_history)):\n",
    "        writer.writerow([\n",
    "            i,\n",
    "            error_history[i],\n",
    "            max_cost_history[i],\n",
    "            min_cost_history[i],\n",
    "            cost_norm_history[i],\n",
    "            rugged_terr,\n",
    "            warm_start,\n",
    "            imperfect_state_estimation\n",
    "        ])\n",
    "\n",
    "# Save the goal iteration data\n",
    "goal_filename = f\"simulation_goal_data_{rugged_terr}_{warm_start}_{imperfect_state_estimation}.csv\"\n",
    "with open(goal_filename, mode='w', newline='') as file:\n",
    "    writer = csv.writer(file)\n",
    "    # Write the header\n",
    "    writer.writerow(['goal_index', 'num_iter_per_goal'])\n",
    "    # Write each row of goal data\n",
    "    for i, value in enumerate(num_iter_per_goal):\n",
    "        writer.writerow([i, value])\n",
    "\n",
    "print(f\"Time-series data saved to {time_series_filename}\")\n",
    "print(f\"Goal data saved to {goal_filename}\")\n"
   ]
  },
  {
   "cell_type": "code",
   "execution_count": null,
   "id": "62431608",
   "metadata": {},
   "outputs": [],
   "source": [
    "import csv\n",
    "import matplotlib.pyplot as plt\n",
    "import os\n",
    "import numpy as np\n",
    "\n",
    "# List CSV files with descriptive names and their corresponding condition keys\n",
    "csv_files = [\n",
    "    (\"simulation_goal_data_False_False_False.csv\", \"Flat, Perfect State, Cold Start\"),\n",
    "    (\"simulation_goal_data_False_True_False.csv\", \"Flat, Perfect State, Warm Start\"),\n",
    "    (\"simulation_goal_data_False_False_True.csv\", \"Flat, Imperfect State, Cold Start\"),\n",
    "    (\"simulation_goal_data_False_True_True.csv\", \"Flat, Imperfect State, Warm Start\"),\n",
    "    (\"simulation_goal_data_True_False_False.csv\", \"Bumpy, Perfect State, Cold Start\"),\n",
    "    (\"simulation_goal_data_True_True_False.csv\", \"Bumpy, Perfect State, Warm Start\"),\n",
    "    (\"simulation_goal_data_True_False_True.csv\", \"Bumpy, Imperfect State, Cold Start\"),\n",
    "    (\"simulation_goal_data_True_True_True.csv\", \"Bumpy, Imperfect State, Warm Start\"),\n",
    "]\n",
    "\n",
    "# Prepare data for plotting\n",
    "goal_data = {\n",
    "    \"Flat, Perfect State\": {\"Cold Start\": [], \"Warm Start\": []},\n",
    "    \"Flat, Imperfect State\": {\"Cold Start\": [], \"Warm Start\": []},\n",
    "    \"Bumpy, Perfect State\": {\"Cold Start\": [], \"Warm Start\": []},\n",
    "    \"Bumpy, Imperfect State\": {\"Cold Start\": [], \"Warm Start\": []},\n",
    "}\n",
    "\n",
    "# Read data from files\n",
    "for file, label in csv_files:\n",
    "    if os.path.exists(file):  # Check if the file exists\n",
    "        with open(file, mode=\"r\") as f:\n",
    "            reader = csv.DictReader(f)\n",
    "            num_iter = [float(row[\"num_iter_per_goal\"]) for row in reader]\n",
    "\n",
    "            # Determine the condition and start type\n",
    "            parts = label.split(\", \")\n",
    "            condition = \", \".join(parts[:2])  # First two parts are the condition\n",
    "            start_type = parts[2]  # Third part is the start type\n",
    "\n",
    "            if num_iter[0] == 0:\n",
    "                num_iter.pop(0)\n",
    "            goal_data[condition][start_type] = num_iter\n",
    "    else:\n",
    "        print(f\"File {file} not found!\")\n",
    "\n",
    "print(goal_data)\n",
    "# Plot the data\n",
    "plt.figure(figsize=(12, 6))\n",
    "bar_width = 0.35\n",
    "x = np.arange(len(goal_data))  # Number of conditions\n",
    "\n",
    "for i, (condition, starts) in enumerate(goal_data.items()):\n",
    "    cold_start = starts[\"Cold Start\"][:2]  # Goals 1 and 2\n",
    "    warm_start = starts[\"Warm Start\"][:2]\n",
    "\n",
    "    # Plot cold start bars\n",
    "    plt.bar(\n",
    "        x[i] - bar_width / 2, cold_start, bar_width,\n",
    "        color=\"#d9f0f6\",label=\"Cold Start\" if i == 0 else \"\"\n",
    "    )\n",
    "\n",
    "    # Plot warm start bars with hatching\n",
    "    plt.bar(\n",
    "        x[i] + bar_width / 2, warm_start, bar_width,\n",
    "        color=\"#91c3e5\", hatch=\"//\", label=\"Warm Start\" if i == 0 else \"\"\n",
    "    )\n",
    "\n",
    "# Add labels, title, and legend\n",
    "plt.title(\"Comparison of Warm Start vs Cold Start Across Conditions\")\n",
    "plt.xlabel(\"Conditions\")\n",
    "plt.ylabel(\"Number of Iterations\")\n",
    "plt.xticks(x, goal_data.keys(), rotation=45, ha=\"right\")\n",
    "plt.legend()\n",
    "plt.tight_layout()\n",
    "plt.show()\n"
   ]
  },
  {
   "cell_type": "code",
   "execution_count": null,
   "id": "93e40359",
   "metadata": {},
   "outputs": [],
   "source": [
    "plt.plot(max_cost_history)\n",
    "plt.title(\"max_cost_history\")\n",
    "plt.legend()"
   ]
  },
  {
   "cell_type": "code",
   "execution_count": null,
   "id": "5a64b404",
   "metadata": {},
   "outputs": [],
   "source": [
    "plt.plot(min_cost_history)\n",
    "plt.title(\"min_cost_history\")\n",
    "plt.legend()"
   ]
  },
  {
   "cell_type": "code",
   "execution_count": null,
   "id": "cda4192c",
   "metadata": {},
   "outputs": [],
   "source": [
    "plt.plot(cost_norm_history)\n",
    "plt.title(\"cost_norm_history\")\n",
    "plt.legend()"
   ]
  },
  {
   "cell_type": "code",
   "execution_count": null,
   "id": "7c51edb4",
   "metadata": {},
   "outputs": [],
   "source": [
    "plt.plot(error_history)\n",
    "plt.title(\"Error\")\n",
    "plt.legend()"
   ]
  },
  {
   "cell_type": "code",
   "execution_count": null,
   "id": "af8d4f62",
   "metadata": {},
   "outputs": [],
   "source": [
    "plt.plot(sim_inputs_np[:,0:3], label=[\"hip\", \"thigh\", \"calf\"])\n",
    "plt.title(\"FR\")\n",
    "plt.legend()"
   ]
  },
  {
   "cell_type": "code",
   "execution_count": null,
   "id": "9cf73d6a",
   "metadata": {},
   "outputs": [],
   "source": [
    "plt.plot(sim_inputs_np[:,3:6], label=[\"hip\", \"thigh\", \"calf\"])\n",
    "plt.title(\"FL\")\n",
    "plt.legend()"
   ]
  },
  {
   "cell_type": "code",
   "execution_count": null,
   "id": "8c35fe69",
   "metadata": {},
   "outputs": [],
   "source": [
    "plt.plot(sim_inputs_np[:,6:9], label=[\"hip\", \"thigh\", \"calf\"])\n",
    "plt.title(\"RR\")\n",
    "plt.legend()"
   ]
  },
  {
   "cell_type": "code",
   "execution_count": null,
   "id": "04069845",
   "metadata": {
    "scrolled": true
   },
   "outputs": [],
   "source": [
    "plt.plot(sim_inputs_np[:,9:], label=[\"hip\", \"thigh\", \"calf\"])\n",
    "plt.title(\"RL\")\n",
    "plt.legend()"
   ]
  },
  {
   "cell_type": "markdown",
   "id": "fa8e5157-86cb-4517-819c-3e472eb21397",
   "metadata": {},
   "source": [
    "## Animation"
   ]
  },
  {
   "cell_type": "code",
   "execution_count": null,
   "id": "d6f2b5a9-5489-4ca9-a31d-489b40356d37",
   "metadata": {},
   "outputs": [],
   "source": [
    "# Get the resolution of the images\n",
    "image_height, image_width = anim_imgs[0].shape[:2]\n",
    "\n",
    "# Set the figure size to match the image resolution\n",
    "fig, ax = plt.subplots(figsize=(image_width / 500, image_height / 500), dpi=100)\n",
    "skip_frames = 5\n",
    "interval = dt_sim*1000*skip_frames\n",
    "# Remove the white border by setting margins and padding to zero\n",
    "fig.subplots_adjust(left=0, right=1, top=1, bottom=0)\n",
    "ax.set_position([0, 0, 1, 1])\n",
    "\n",
    "def animate(i):\n",
    "    ax.clear()\n",
    "    ax.imshow(anim_imgs[i * skip_frames])  # Display the image, skipping frames\n",
    "    ax.axis('off')\n",
    "\n",
    "# Create animation, considering the reduced frame rate due to skipped frames\n",
    "ani = FuncAnimation(fig, animate, frames=len(anim_imgs) // skip_frames, interval=interval)  # 50 ms for 20 Hz\n",
    "\n",
    "# Display the animation\n",
    "HTML(ani.to_jshtml())"
   ]
  },
  {
   "cell_type": "code",
   "execution_count": null,
   "id": "b12dbb56-4b64-43de-8c39-f961154ddaca",
   "metadata": {},
   "outputs": [],
   "source": [
    "from PIL import Image\n",
    "import numpy as np\n",
    "import cv2\n",
    "\n",
    "# Get the resolution of the images\n",
    "image_height, image_width = anim_imgs[0].shape[:2]\n",
    "\n",
    "# List to store frames as PIL images\n",
    "gif_frames = []\n",
    "\n",
    "skip_frames = 10  # Adjust as needed\n",
    "\n",
    "# Convert frames to PIL Image format\n",
    "for i in range(0, len(anim_imgs), skip_frames):\n",
    "    frame = anim_imgs[i]\n",
    "    # Convert the frame to 8-bit unsigned integer if needed (OpenCV compatibility)\n",
    "    if frame.dtype != np.uint8:\n",
    "        frame = (frame * 255).astype(np.uint8)\n",
    "    \n",
    "    # Convert BGR to RGB (Pillow expects RGB format)\n",
    "    frame = cv2.cvtColor(frame, cv2.COLOR_BGR2RGB)\n",
    "    pil_image = Image.fromarray(frame)\n",
    "    \n",
    "    # Append to gif frames list\n",
    "    gif_frames.append(pil_image)\n",
    "\n",
    "# Save the frames as a GIF\n",
    "output_filename = 'stairs_quintic_k_5.gif'\n",
    "gif_frames[0].save(\n",
    "    output_filename,\n",
    "    save_all=True,\n",
    "    append_images=gif_frames[1:],\n",
    "    duration=1000 / 20,  # Frame duration in milliseconds (20 fps)\n",
    "    loop=0  # 0 means the GIF will loop indefinitely\n",
    ")\n",
    "\n",
    "print(f\"GIF saved as {output_filename}\")\n"
   ]
  },
  {
   "cell_type": "code",
   "execution_count": null,
   "id": "d313f0a4-fecd-4bc3-b92f-640fbafadd8b",
   "metadata": {},
   "outputs": [],
   "source": []
  }
 ],
 "metadata": {
  "kernelspec": {
   "display_name": "16831",
   "language": "python",
   "name": "python3"
  },
  "language_info": {
   "codemirror_mode": {
    "name": "ipython",
    "version": 3
   },
   "file_extension": ".py",
   "mimetype": "text/x-python",
   "name": "python",
   "nbconvert_exporter": "python",
   "pygments_lexer": "ipython3",
   "version": "3.11.10"
  }
 },
 "nbformat": 4,
 "nbformat_minor": 5
}
