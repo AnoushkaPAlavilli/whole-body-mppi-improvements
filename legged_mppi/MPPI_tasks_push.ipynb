{
 "cells": [
  {
   "cell_type": "code",
   "execution_count": 1,
   "id": "dc7fb232",
   "metadata": {},
   "outputs": [],
   "source": [
    "# Imports\n",
    "import numpy as np\n",
    "import copy as cp\n",
    "\n",
    "# Mujoco\n",
    "import mujoco\n",
    "import mujoco_viewer\n",
    "\n",
    "# Controller functions\n",
    "from control.controllers.mppi_locomanipulation import MPPI_box_push\n",
    "\n",
    "from utils.tasks import get_task\n",
    "from utils.transforms import batch_world_to_local_velocity\n",
    "\n",
    "# Visualization\n",
    "from matplotlib.animation import FuncAnimation\n",
    "from IPython.display import HTML\n",
    "import matplotlib.pyplot as plt"
   ]
  },
  {
   "cell_type": "markdown",
   "id": "f20115e3-fb11-4135-8cb8-cf22681f1b5e",
   "metadata": {},
   "source": [
    "## Choose task\n",
    "* `'push_box'`\n",
    "* `'push_box_rugged_terr'`"
   ]
  },
  {
   "cell_type": "code",
   "execution_count": 2,
   "id": "0a4f5d59-b0c9-4196-b924-2d7da4298118",
   "metadata": {},
   "outputs": [],
   "source": [
    "# Task\n",
    "task = 'push_box'\n",
    "task_data = get_task(task)\n",
    "model_path = task_data['sim_path']"
   ]
  },
  {
   "cell_type": "code",
   "execution_count": 3,
   "id": "ece36733",
   "metadata": {},
   "outputs": [],
   "source": [
    "# Model visualizer\n",
    "model_sim = mujoco.MjModel.from_xml_path(model_path)\n",
    "dt_sim = 0.01\n",
    "model_sim.opt.timestep = dt_sim\n",
    "data_sim = mujoco.MjData(model_sim)\n",
    "viewer = mujoco_viewer.MujocoViewer(model_sim, data_sim, 'offscreen')"
   ]
  },
  {
   "cell_type": "code",
   "execution_count": null,
   "id": "00ffeb38",
   "metadata": {},
   "outputs": [],
   "source": [
    "# Reset robot (keyframes are defined in the xml)\n",
    "mujoco.mj_resetDataKeyframe(model_sim, data_sim, 0) # stand position\n",
    "mujoco.mj_forward(model_sim, data_sim)\n",
    "q_init = cp.deepcopy(data_sim.qpos) # save reference pose\n",
    "v_init = cp.deepcopy(data_sim.qvel) # save reference pose\n",
    "print(\"Configuration: {}\".format(q_init)) # save reference pose"
   ]
  },
  {
   "cell_type": "code",
   "execution_count": null,
   "id": "22edd326",
   "metadata": {},
   "outputs": [],
   "source": [
    "img = viewer.read_pixels()\n",
    "plt.imshow(img)"
   ]
  },
  {
   "cell_type": "code",
   "execution_count": null,
   "id": "a726bf68",
   "metadata": {},
   "outputs": [],
   "source": [
    "# Initialize controller\n",
    "controller = MPPI_box_push(task=task)\n",
    "controller.internal_ref = True\n",
    "controller.reset_planner()"
   ]
  },
  {
   "cell_type": "code",
   "execution_count": 7,
   "id": "c15391b6",
   "metadata": {},
   "outputs": [],
   "source": [
    "q_curr = cp.deepcopy(data_sim.qpos) # save reference pose\n",
    "v_curr = cp.deepcopy(data_sim.qvel) # save reference pose\n",
    "x = np.concatenate([q_curr, v_curr])"
   ]
  },
  {
   "cell_type": "code",
   "execution_count": 8,
   "id": "ee72086b-8acf-4afc-8f5e-7bae137aa1c8",
   "metadata": {},
   "outputs": [],
   "source": [
    "# Set desired box location\n",
    "controller.x_box_ref[0] = 2 # x location in world coordinates (current forward direction)\n",
    "controller.x_box_ref[1] = 1 # y location in world coordinates (current forward direction)"
   ]
  },
  {
   "cell_type": "code",
   "execution_count": 9,
   "id": "c5dba8ed",
   "metadata": {},
   "outputs": [],
   "source": [
    "# Set simulation time\n",
    "tfinal = 26\n",
    "tvec = np.linspace(0,tfinal,int(np.ceil(tfinal/dt_sim))+1)"
   ]
  },
  {
   "cell_type": "code",
   "execution_count": 10,
   "id": "b9d7632f",
   "metadata": {},
   "outputs": [],
   "source": [
    "mujoco.mj_resetDataKeyframe(model_sim, data_sim, 0)\n",
    "mujoco.mj_forward(model_sim, data_sim)"
   ]
  },
  {
   "cell_type": "code",
   "execution_count": 11,
   "id": "8f5d186d-e79c-4463-b248-87799f7fe507",
   "metadata": {},
   "outputs": [],
   "source": [
    "viewer.cam.distance = 3.5\n",
    "viewer.cam.lookat[:] = [1,1,0]"
   ]
  },
  {
   "cell_type": "code",
   "execution_count": 12,
   "id": "5b0632bf-9093-4d49-ac2a-4f77fc7848bb",
   "metadata": {},
   "outputs": [],
   "source": [
    " viewer.add_marker(\n",
    "         pos=controller.x_box_ref[:3]*1,         # Position of the marker\n",
    "         size=[0.15, 0.15, 0.15],     # Size of the sphere\n",
    "         rgba=[1, 1, 0, 1],           # Color of the sphere (red)\n",
    "         type=mujoco.mjtGeom.mjGEOM_SPHERE, # Specify that this is a sphere\n",
    "         label=\"\"\n",
    "     )\n",
    " viewer.add_marker(\n",
    "         pos=controller.body_ref[:3]*1,         # Position of the marker\n",
    "         size=[0.15, 0.15, 0.15],     # Size of the sphere\n",
    "         rgba=[1, 0, 1, 1],           # Color of the sphere (red)\n",
    "         type=mujoco.mjtGeom.mjGEOM_SPHERE, # Specify that this is a sphere\n",
    "         label=\"\"\n",
    "     )"
   ]
  },
  {
   "cell_type": "code",
   "execution_count": null,
   "id": "2bd587e2-398e-4e48-8636-00979ea1629e",
   "metadata": {},
   "outputs": [],
   "source": [
    "img = viewer.read_pixels()\n",
    "plt.imshow(img)"
   ]
  },
  {
   "cell_type": "code",
   "execution_count": 14,
   "id": "7beeda07-3da8-4614-9c53-a3efc519e523",
   "metadata": {},
   "outputs": [],
   "source": [
    "q_curr = cp.deepcopy(data_sim.qpos) # save reference pose\n",
    "v_curr = cp.deepcopy(data_sim.qvel) # save reference pose\n",
    "x = np.concatenate([q_curr, v_curr])"
   ]
  },
  {
   "cell_type": "code",
   "execution_count": null,
   "id": "ae358664",
   "metadata": {},
   "outputs": [],
   "source": [
    "%%time\n",
    "# Run simulation\n",
    "anim_imgs = []\n",
    "sim_inputs = []\n",
    "x_states = []\n",
    "error_history = []\n",
    "max_cost_history = []\n",
    "min_cost_history = []\n",
    "cost_norm_history = []\n",
    "num_iter_per_goal = np.zeros(len(controller.goal_pos))\n",
    "for ticks, ti in enumerate(tvec):\n",
    "    if imperfect_state_estimation:\n",
    "        q_curr = cp.deepcopy(data_sim.qpos) + np.random.normal(0, q_noise_std, size=data_sim.qpos.shape)\n",
    "        v_curr = cp.deepcopy(data_sim.qvel) + np.random.normal(0, v_noise_std, size=data_sim.qvel.shape)\n",
    "    else:\n",
    "        q_curr = cp.deepcopy(data_sim.qpos)\n",
    "        v_curr = cp.deepcopy(data_sim.qvel)\n",
    "    x = np.concatenate([q_curr, v_curr])\n",
    "    \n",
    "    if ticks%1 == 0:\n",
    "        u_joints, cost_info = controller.update(x)  \n",
    "        max_cost_history.append(cost_info['max_cost'])\n",
    "        min_cost_history.append(cost_info['min_cost'])\n",
    "        cost_norm_history.append(np.linalg.norm(cost_info['max_cost'] - cost_info['min_cost']))  \n",
    "        \n",
    "    data_sim.ctrl[:] = u_joints\n",
    "    mujoco.mj_step(model_sim, data_sim)\n",
    "    mujoco.mj_forward(model_sim, data_sim)\n",
    "\n",
    "    error = np.linalg.norm(np.array(controller.body_ref[:3]) - np.array(data_sim.qpos[7:10]))\n",
    "    error_history.append(error)\n",
    "    viewer.add_marker(\n",
    "         pos=controller.body_ref[:3]*1,         # Position of the marker\n",
    "         size=[0.15, 0.15, 0.15],     # Size of the sphere\n",
    "         rgba=[1, 0, 1, 1],           # Color of the sphere (red)\n",
    "         type=mujoco.mjtGeom.mjGEOM_SPHERE, # Specify that this is a sphere\n",
    "         label=\"\"\n",
    "    )\n",
    "    \n",
    "    viewer.add_marker(\n",
    "         pos=controller.x_box_ref[:3]*1,         # Position of the marker\n",
    "         size=[0.15, 0.15, 0.15],     # Size of the sphere\n",
    "         rgba=[1, 1, 0, 1],           # Color of the sphere (red)\n",
    "         type=mujoco.mjtGeom.mjGEOM_SPHERE, # Specify that this is a sphere\n",
    "         label=\"\"\n",
    "     )\n",
    "    if error < 0.1:\n",
    "        controller.next_goal()\n",
    "\n",
    "    if ticks % 2 == 1:\n",
    "        img = viewer.read_pixels()\n",
    "        anim_imgs.append(img)\n",
    "    sim_inputs.append(u_joints)\n",
    "    x_states.append(x)"
   ]
  },
  {
   "cell_type": "code",
   "execution_count": 16,
   "id": "0524968d-0004-4d9c-97d9-5b55416d073a",
   "metadata": {},
   "outputs": [],
   "source": [
    "x_states_np = np.array(x_states)"
   ]
  },
  {
   "cell_type": "code",
   "execution_count": 17,
   "id": "732bdb32-38fd-4688-ab45-04a8e80fd728",
   "metadata": {},
   "outputs": [],
   "source": [
    "box_state = np.zeros((tvec.shape[0], 13))\n",
    "robot_state = np.zeros((tvec.shape[0], 37))"
   ]
  },
  {
   "cell_type": "code",
   "execution_count": 18,
   "id": "01e93312-256f-4ca9-b878-2b7dbe235242",
   "metadata": {},
   "outputs": [],
   "source": [
    "box_state[:,:7] = x_states_np[:,:7]\n",
    "robot_state[:,:19] = x_states_np[:,7:26]\n",
    "box_state[:,7:] = x_states_np[:,26:32]\n",
    "robot_state[:,19:] = x_states_np[:,32:]"
   ]
  },
  {
   "cell_type": "code",
   "execution_count": null,
   "id": "38123db2-648a-423c-a09d-bb9ab98c33b1",
   "metadata": {},
   "outputs": [],
   "source": [
    "controller.sample_type"
   ]
  },
  {
   "cell_type": "markdown",
   "id": "5b74c526-90ef-4575-aeb1-1b50f9169b09",
   "metadata": {},
   "source": [
    "## Box state"
   ]
  },
  {
   "cell_type": "code",
   "execution_count": null,
   "id": "a9ae4507-ded1-4022-b480-fc5671e790fb",
   "metadata": {},
   "outputs": [],
   "source": [
    "plt.plot(min_cost_history, label=\"min_cost\")\n",
    "plt.plot(max_cost_history, label='max_cost')\n",
    "plt.plot(cost_norm_history, label= 'cost_diff')\n",
    "plt.title(\"Cost over time\")\n",
    "plt.legend()"
   ]
  },
  {
   "cell_type": "code",
   "execution_count": null,
   "id": "80042c44-baea-4b1c-8a54-46409a2233a4",
   "metadata": {},
   "outputs": [],
   "source": [
    "plt.plot(error_history)\n",
    "plt.title(\"Error Over Time\")"
   ]
  },
  {
   "cell_type": "code",
   "execution_count": null,
   "id": "c6de22f2-c877-4e95-9a27-7ef48dac74f5",
   "metadata": {},
   "outputs": [],
   "source": [
    "plt.plot(box_state[:,:3], label=[\"x\", \"y\", \"z\"])\n",
    "plt.title(\"Box position in world frame\")\n",
    "plt.legend()"
   ]
  },
  {
   "cell_type": "code",
   "execution_count": null,
   "id": "6aeed00a-144e-4f74-8d34-35bc71f355d8",
   "metadata": {},
   "outputs": [],
   "source": [
    "plt.plot(box_state[:,0], box_state[:,1], label=\"box trajectory\")\n",
    "plt.scatter(box_state[0,0], box_state[0,1])\n",
    "plt.scatter(controller.x_box_ref[0], controller.x_box_ref[1])\n",
    "\n",
    "plt.plot(robot_state[:,0], robot_state[:,1],label=\"robot trajectory\")\n",
    "plt.axis(\"equal\")\n",
    "plt.title(\"Box position in world frame\")\n",
    "plt.legend()"
   ]
  },
  {
   "cell_type": "code",
   "execution_count": null,
   "id": "9e941197-73e8-46df-a8ac-8c4aee9fbc01",
   "metadata": {},
   "outputs": [],
   "source": [
    "plt.plot(box_state[:,3:7], label=[\"w\", \"x\", \"y\", \"z\"])\n",
    "plt.title(\"Box orientation\")\n",
    "plt.legend()"
   ]
  },
  {
   "cell_type": "markdown",
   "id": "837f4038-9b3a-40e0-a8d9-e3304ef871b4",
   "metadata": {},
   "source": [
    "## Robot state"
   ]
  },
  {
   "cell_type": "code",
   "execution_count": null,
   "id": "aa1a6a9e",
   "metadata": {},
   "outputs": [],
   "source": [
    "orientations = robot_state[:,3:7]\n",
    "velocities = robot_state[:,19:22]\n",
    "velocities_trans = batch_world_to_local_velocity(orientations, velocities)\n",
    "\n",
    "plt.plot(velocities_trans, label=[\"vx\", \"vy\", \"vz\"])\n",
    "plt.title(\"Body velocities in world frame\")\n",
    "plt.legend()"
   ]
  },
  {
   "cell_type": "code",
   "execution_count": null,
   "id": "5e59127a",
   "metadata": {},
   "outputs": [],
   "source": [
    "angular_velocities = robot_state[:,22:25]\n",
    "plt.plot(angular_velocities, label=[\"wx\", \"wy\", \"wz\"])\n",
    "plt.title(\"Angular velocities\")\n",
    "plt.legend()"
   ]
  },
  {
   "cell_type": "code",
   "execution_count": null,
   "id": "559a1c28",
   "metadata": {},
   "outputs": [],
   "source": [
    "plt.plot(orientations, label=[\"w\", \"x\", \"y\", \"z\"])\n",
    "plt.title(\"Orientation\")\n",
    "plt.legend()"
   ]
  },
  {
   "cell_type": "code",
   "execution_count": null,
   "id": "ba10e56e",
   "metadata": {},
   "outputs": [],
   "source": [
    "plt.plot(robot_state[:,7:10], label=[\"hip\",\"thigh\",\"calf\"])\n",
    "plt.title(\"Joint angles FR leg\")"
   ]
  },
  {
   "cell_type": "code",
   "execution_count": null,
   "id": "b8f9f219",
   "metadata": {},
   "outputs": [],
   "source": [
    "plt.plot(robot_state[:,10:13], label=[\"hip\",\"thigh\",\"calf\"])\n",
    "plt.title(\"Joint angles FL leg\")"
   ]
  },
  {
   "cell_type": "code",
   "execution_count": null,
   "id": "6e274b64",
   "metadata": {},
   "outputs": [],
   "source": [
    "plt.plot(robot_state[:,13:16], label=[\"hip\",\"thigh\",\"calf\"])\n",
    "plt.title(\"Joint angles RR leg\")"
   ]
  },
  {
   "cell_type": "code",
   "execution_count": null,
   "id": "fb39ec22",
   "metadata": {},
   "outputs": [],
   "source": [
    "plt.plot(robot_state[:,16:19], label=[\"hip\",\"thigh\",\"calf\"])\n",
    "plt.title(\"Joint angles RL leg\")"
   ]
  },
  {
   "cell_type": "code",
   "execution_count": 32,
   "id": "9a5c15b3",
   "metadata": {},
   "outputs": [],
   "source": [
    "sim_inputs_np = np.array(sim_inputs)"
   ]
  },
  {
   "cell_type": "code",
   "execution_count": null,
   "id": "af8d4f62",
   "metadata": {},
   "outputs": [],
   "source": [
    "plt.plot(sim_inputs_np[:,0:3], label=[\"hip\", \"thigh\", \"calf\"])\n",
    "plt.title(\"FR\")\n",
    "plt.legend()"
   ]
  },
  {
   "cell_type": "code",
   "execution_count": null,
   "id": "9cf73d6a",
   "metadata": {},
   "outputs": [],
   "source": [
    "plt.plot(sim_inputs_np[:,3:6], label=[\"hip\", \"thigh\", \"calf\"])\n",
    "plt.title(\"FL\")\n",
    "plt.legend()"
   ]
  },
  {
   "cell_type": "code",
   "execution_count": null,
   "id": "8c35fe69",
   "metadata": {},
   "outputs": [],
   "source": [
    "plt.plot(sim_inputs_np[:,6:9], label=[\"hip\", \"thigh\", \"calf\"])\n",
    "plt.title(\"RR\")\n",
    "plt.legend()"
   ]
  },
  {
   "cell_type": "markdown",
   "id": "fa8e5157-86cb-4517-819c-3e472eb21397",
   "metadata": {},
   "source": [
    "## Animation"
   ]
  },
  {
   "cell_type": "code",
   "execution_count": null,
   "id": "d6f2b5a9-5489-4ca9-a31d-489b40356d37",
   "metadata": {},
   "outputs": [],
   "source": [
    "# Get the resolution of the images\n",
    "image_height, image_width = anim_imgs[0].shape[:2]\n",
    "\n",
    "# Set the figure size to match the image resolution\n",
    "fig, ax = plt.subplots(figsize=(image_width / 500, image_height / 500), dpi=100)\n",
    "skip_frames = 10\n",
    "interval = dt_sim*1000*skip_frames\n",
    "# Remove the white border by setting margins and padding to zero\n",
    "fig.subplots_adjust(left=0, right=1, top=1, bottom=0)\n",
    "ax.set_position([0, 0, 1, 1])\n",
    "\n",
    "def animate(i):\n",
    "    ax.clear()\n",
    "    ax.imshow(anim_imgs[i * skip_frames])  # Display the image, skipping frames\n",
    "    ax.axis('off')\n",
    "\n",
    "# Create animation, considering the reduced frame rate due to skipped frames\n",
    "ani = FuncAnimation(fig, animate, frames=len(anim_imgs) // skip_frames, interval=interval)  # 50 ms for 20 Hz\n",
    "\n",
    "# Display the animation\n",
    "HTML(ani.to_jshtml())"
   ]
  },
  {
   "cell_type": "code",
   "execution_count": null,
   "id": "814d31a3-1839-4d2e-8f57-d09e29fcf89b",
   "metadata": {},
   "outputs": [],
   "source": [
    "from PIL import Image\n",
    "import numpy as np\n",
    "import cv2\n",
    "\n",
    "# Get the resolution of the images\n",
    "image_height, image_width = anim_imgs[0].shape[:2]\n",
    "\n",
    "# List to store frames as PIL images\n",
    "gif_frames = []\n",
    "\n",
    "skip_frames = 10  # Adjust as needed\n",
    "\n",
    "# Convert frames to PIL Image format\n",
    "for i in range(0, len(anim_imgs), skip_frames):\n",
    "    frame = anim_imgs[i]\n",
    "    # Convert the frame to 8-bit unsigned integer if needed (OpenCV compatibility)\n",
    "    if frame.dtype != np.uint8:\n",
    "        frame = (frame * 255).astype(np.uint8)\n",
    "    \n",
    "    # Convert BGR to RGB (Pillow expects RGB format)\n",
    "    frame = cv2.cvtColor(frame, cv2.COLOR_BGR2RGB)\n",
    "    pil_image = Image.fromarray(frame)\n",
    "    \n",
    "    # Append to gif frames list\n",
    "    gif_frames.append(pil_image)\n",
    "\n",
    "# Save the frames as a GIF\n",
    "output_filename = 'push_box_bezier_k_4.gif'\n",
    "gif_frames[0].save(\n",
    "    output_filename,\n",
    "    save_all=True,\n",
    "    append_images=gif_frames[1:],\n",
    "    duration=1000 / 20,  # Frame duration in milliseconds (20 fps)\n",
    "    loop=0  # 0 means the GIF will loop indefinitely\n",
    ")\n",
    "\n",
    "print(f\"GIF saved as {output_filename}\")\n"
   ]
  },
  {
   "cell_type": "code",
   "execution_count": null,
   "id": "7c527329-038b-4bd0-89b6-5723c0497dd3",
   "metadata": {},
   "outputs": [],
   "source": []
  }
 ],
 "metadata": {
  "kernelspec": {
   "display_name": "Python 3 (ipykernel)",
   "language": "python",
   "name": "python3"
  },
  "language_info": {
   "codemirror_mode": {
    "name": "ipython",
    "version": 3
   },
   "file_extension": ".py",
   "mimetype": "text/x-python",
   "name": "python",
   "nbconvert_exporter": "python",
   "pygments_lexer": "ipython3",
   "version": "3.11.5"
  }
 },
 "nbformat": 4,
 "nbformat_minor": 5
}
